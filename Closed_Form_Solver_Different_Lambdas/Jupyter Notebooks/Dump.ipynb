{
 "cells": [
  {
   "cell_type": "markdown",
   "metadata": {},
   "source": [
    "### Older Version of the vector to symmetric matrix "
   ]
  },
  {
   "cell_type": "code",
   "execution_count": null,
   "metadata": {},
   "outputs": [],
   "source": [
    "\n",
    "def vectomat(dataset,output_dim):\n",
    "    '''\n",
    "    This function is made to convert the  FC value vector of the samples in the dataset \n",
    "    to the functional connectivity matrix\n",
    "\n",
    "    dataset: the dataset with n_samples*n_features\n",
    "    '''\n",
    "    #number of samples\n",
    "    n_samples = dataset.shape[0]\n",
    "    #empty array to hold the reconstructed FC matrices\n",
    "    out_dataset = np.zeros((n_samples,output_dim,output_dim))\n",
    "    #indices for the upper triangle without the diagonal \n",
    "    upper_traingle_indices = np.triu_indices(400,k=1)\n",
    "\n",
    "    #iterating over the samples and making the \n",
    "\n",
    "    for i in range(n_samples):\n",
    "        sample = np.zeros((output_dim,output_dim)) \n",
    "        np.fill_diagonal(sample,1)\n",
    "        sample[upper_traingle_indices] = dataset[i]\n",
    "        sample = sample + sample.T - np.diag(sample.diagonal())\n",
    "        out_dataset[i] = sample\n",
    "    \n",
    "    # Assuming `all_matrices` is the 3D array created previously\n",
    "    # Select a random sample\n",
    "    random_index = np.random.randint(0, n_samples)\n",
    "    random_sample = out_dataset[random_index]\n",
    "\n",
    "    # Plot the heatmap\n",
    "    plt.figure(figsize=(10, 8))\n",
    "    sns.heatmap(random_sample, cmap='viridis', cbar=True)\n",
    "    plt.title(f'Heatmap of Random Sample {random_index}')\n",
    "    plt.show()\n",
    "\n",
    "    return out_dataset"
   ]
  },
  {
   "cell_type": "markdown",
   "metadata": {},
   "source": [
    "#### Plotting inside SGD"
   ]
  },
  {
   "cell_type": "code",
   "execution_count": null,
   "metadata": {},
   "outputs": [],
   "source": [
    "    # Create a figure with two horizontal subplots\n",
    "    #fig, (ax1, ax2) = plt.subplots(1, 2, figsize=(10, 5))\n",
    "\n",
    "    # Plotting in the first subplot (ax1)\n",
    "    #ax1.plot(range(1, len(loss_values) + 1), loss_values, marker='o')\n",
    "    #ax1.set_title('Subproblem Loss')\n",
    "    #ax1.set_yscale('log')\n",
    "    #ax1.set_xlabel('Epoch')\n",
    "    #ax1.set_ylabel('Loss')\n",
    "    #ax1.grid(True)\n",
    "\n",
    "    # Plotting in the second subplot (ax2)\n",
    "    #ax2.plot(range(1, len(sub_problem_gradient) + 1), sub_problem_gradient, marker='o')\n",
    "    #ax2.set_title('Subproblem Gradient')\n",
    "    #ax2.set_yscale('log')\n",
    "    #ax2.set_xlabel('Epoch')\n",
    "    #ax2.set_ylabel('Loss')\n",
    "    #ax2.grid(True)\n",
    "\n",
    "    # Adjust the layout to prevent overlap\n",
    "    #plt.tight_layout()\n",
    "\n",
    "    # Display the plot\n",
    "    #plt.show()"
   ]
  }
 ],
 "metadata": {
  "language_info": {
   "name": "python"
  }
 },
 "nbformat": 4,
 "nbformat_minor": 2
}
