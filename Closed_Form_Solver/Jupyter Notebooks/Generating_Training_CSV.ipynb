{
 "cells": [
  {
   "cell_type": "markdown",
   "metadata": {},
   "source": [
    "#### Generating Traning Result CSV"
   ]
  },
  {
   "cell_type": "markdown",
   "metadata": {},
   "source": [
    "1. Importing the libraries"
   ]
  },
  {
   "cell_type": "code",
   "execution_count": 1,
   "metadata": {},
   "outputs": [],
   "source": [
    "import os\n",
    "import glob\n",
    "import pickle\n",
    "import sys\n",
    "import platform\n",
    "\n",
    "#appending path to lsr tensor \n",
    "\n",
    "if platform.system() == \"Windows\":\n",
    "    sys.path.append(rf'D:\\Tensor Based ML for Neuro Imaging\\INSPIRE_CAHBHIR\\Python Scripts\\LSR-Tensor-Ridge-Regression\\Closed_Form_Solver\\Code Files')\n",
    "    sys.path.append(rf'D:\\Tensor Based ML for Neuro Imaging\\INSPIRE_CAHBHIR\\Python Scripts\\LSR-Tensor-Ridge-Regression\\Closed_Form_Solver\\Experimental Results\\Tensor_Method\\Closed Form')\n",
    "elif platform.system() == \"Darwin\":\n",
    "    sys.path.append('/Users/lakrama/Neuro Project Codes/LSR-Tensor-Ridge-Regression/Closed_Form_Solver/Code Files')\n",
    "\n",
    "import LSR_Tensor_2D_v1\n",
    "from optimization import inner_product, R2, objective_function_vectorized\n",
    "\n",
    "\n"
   ]
  },
  {
   "cell_type": "markdown",
   "metadata": {},
   "source": [
    "2. Generating CSV"
   ]
  },
  {
   "cell_type": "code",
   "execution_count": null,
   "metadata": {},
   "outputs": [],
   "source": [
    "# The dataframe to hold the results for a seed\n",
    "\n",
    "columns = ['Seed', 'Best Lambda', 'NMSE', 'CORR', 'R2']\n",
    "results_df = pd.DataFrame(columns=columns)\n",
    "\n",
    "\n",
    "# Specify the directory containing the files\n",
    "directory = rf\"D:\\Tensor Based ML for Neuro Imaging\\INSPIRE_CAHBHIR\\Python Scripts\\LSR-Tensor-Ridge-Regression_All_Data\\Closed_Form_Solver\\LSR\\Separation Rank 2\\Normalize_Int_Removal\\Frobenious\\679\"\n",
    "\n",
    "# Define the pattern to match the files\n",
    "pattern = \"*.pkl\"\n",
    "\n",
    "# Get the list of files matching the pattern\n",
    "file_list = glob.glob(os.path.join(directory, pattern))\n",
    "\n",
    "for file in file_list:\n",
    "    with open(file, 'rb') as f:\n",
    "        \n",
    "        #loading data\n",
    "        data = pickle.load(f)\n",
    "        \n",
    "        #extracting the final matrices\n",
    "        X_train = data[0]\n",
    "        Y_train = data[1]\n",
    "        lambda1 = data[4]\n",
    "        lsr_ten = data[18][-1]\n",
    "\n",
    "        #generating the lsr tensor \n",
    "        Matrix = lsr_ten.expand_to_tensor()\n",
    "\n",
    "        #training predictions\n",
    "        Y_train_predicted = inner_product(np.transpose(X_train, (0, 2, 1)), Matrix.flatten(order ='F')) \n",
    "\n",
    "        train_nmse_loss = np.sum(np.square((Y_train_predicted.flatten() - Y_train.flatten()))) / np.sum(np.square(Y_train.flatten()))    \n",
    "        train_R2_loss = R2(Y_train.flatten(), Y_train_predicted.flatten())\n",
    "        train_correlation = np.corrcoef(Y_train_predicted.flatten(), Y_train.flatten())[0, 1]\n",
    "        \n",
    "        # Append the results to the dataframe\n",
    "        seed_result_df = pd.DataFrame([{\n",
    "            'Seed': file,\n",
    "            'Best Lambda': lambda1,\n",
    "            'NMSE': train_nmse_loss,\n",
    "            'CORR': train_correlation,\n",
    "            'R2': train_R2_loss,\n",
    "        }])\n",
    "        \n",
    "        #concatenating the results\n",
    "        results_df = pd.concat([results_df,seed_result_df], ignore_index = True) \n",
    "        \n",
    "        \n",
    "    # Define platform-specific file paths\n",
    "    if platform.system() == 'Windows':\n",
    "        file_path = r'D:\\Tensor Based ML for Neuro Imaging\\INSPIRE_CAHBHIR\\Python Scripts\\LSR-Tensor-Ridge-Regression_All_Data\\Closed_Form_Solver\\LSR\\Separation Rank 2\\Normalize_Int_Removal\\Frobenious\\679\\Results'\n",
    "    elif platform.system() == 'Darwin':\n",
    "        file_path = 'addpath'  # Replace 'addpath' with the actual path for macOS\n",
    "\n",
    "    # Save the result as a CSV\n",
    "    results_df.to_csv(f'{file_path}/train_results_with_matrix.csv', index=False)\n"
   ]
  }
 ],
 "metadata": {
  "kernelspec": {
   "display_name": "torchtensor",
   "language": "python",
   "name": "python3"
  },
  "language_info": {
   "codemirror_mode": {
    "name": "ipython",
    "version": 3
   },
   "file_extension": ".py",
   "mimetype": "text/x-python",
   "name": "python",
   "nbconvert_exporter": "python",
   "pygments_lexer": "ipython3",
   "version": "3.12.2"
  }
 },
 "nbformat": 4,
 "nbformat_minor": 2
}
